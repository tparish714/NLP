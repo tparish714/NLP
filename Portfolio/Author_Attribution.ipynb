{
  "nbformat": 4,
  "nbformat_minor": 0,
  "metadata": {
    "colab": {
      "provenance": [],
      "collapsed_sections": []
    },
    "kernelspec": {
      "name": "python3",
      "display_name": "Python 3"
    },
    "language_info": {
      "name": "python"
    }
  },
  "cells": [
    {
      "cell_type": "markdown",
      "source": [
        "#**Author Attribution**\n",
        "\n",
        "*The NLP task is to identify the author of a document, given samples of author's work* <br>\n",
        "\n",
        "*The data set used is a collection of Federalist Papers from Project Gutenberg*\n",
        "\n",
        "\n",
        "\n",
        "\n"
      ],
      "metadata": {
        "id": "sxsyRFRILeMi"
      }
    },
    {
      "cell_type": "markdown",
      "source": [
        "###Read in CSV File Using Pandas"
      ],
      "metadata": {
        "id": "BrIW7Sd6Fu6x"
      }
    },
    {
      "cell_type": "code",
      "execution_count": 21,
      "metadata": {
        "id": "dV-VPBjg9NhY"
      },
      "outputs": [],
      "source": [
        "import pandas as pd\n",
        "df = pd.read_csv('federalist.csv')\n",
        "\n",
        "# convert the author column to categorical data\n",
        "df.author = df.author.astype('category')"
      ]
    },
    {
      "cell_type": "code",
      "source": [
        "# display the first few rows\n",
        "print('The first few rows:\\n')\n",
        "df.head()"
      ],
      "metadata": {
        "colab": {
          "base_uri": "https://localhost:8080/",
          "height": 238
        },
        "id": "x4Pnx3rYB87Y",
        "outputId": "794ae582-3d9f-43ea-9fba-2161d7499bf2"
      },
      "execution_count": 22,
      "outputs": [
        {
          "output_type": "stream",
          "name": "stdout",
          "text": [
            "The first few rows:\n",
            "\n"
          ]
        },
        {
          "output_type": "execute_result",
          "data": {
            "text/plain": [
              "     author                                               text\n",
              "0  HAMILTON  FEDERALIST. No. 1 General Introduction For the...\n",
              "1       JAY  FEDERALIST No. 2 Concerning Dangers from Forei...\n",
              "2       JAY  FEDERALIST No. 3 The Same Subject Continued (C...\n",
              "3       JAY  FEDERALIST No. 4 The Same Subject Continued (C...\n",
              "4       JAY  FEDERALIST No. 5 The Same Subject Continued (C..."
            ],
            "text/html": [
              "\n",
              "  <div id=\"df-ce00ff7e-2400-40f0-9eae-8d9f33c49439\">\n",
              "    <div class=\"colab-df-container\">\n",
              "      <div>\n",
              "<style scoped>\n",
              "    .dataframe tbody tr th:only-of-type {\n",
              "        vertical-align: middle;\n",
              "    }\n",
              "\n",
              "    .dataframe tbody tr th {\n",
              "        vertical-align: top;\n",
              "    }\n",
              "\n",
              "    .dataframe thead th {\n",
              "        text-align: right;\n",
              "    }\n",
              "</style>\n",
              "<table border=\"1\" class=\"dataframe\">\n",
              "  <thead>\n",
              "    <tr style=\"text-align: right;\">\n",
              "      <th></th>\n",
              "      <th>author</th>\n",
              "      <th>text</th>\n",
              "    </tr>\n",
              "  </thead>\n",
              "  <tbody>\n",
              "    <tr>\n",
              "      <th>0</th>\n",
              "      <td>HAMILTON</td>\n",
              "      <td>FEDERALIST. No. 1 General Introduction For the...</td>\n",
              "    </tr>\n",
              "    <tr>\n",
              "      <th>1</th>\n",
              "      <td>JAY</td>\n",
              "      <td>FEDERALIST No. 2 Concerning Dangers from Forei...</td>\n",
              "    </tr>\n",
              "    <tr>\n",
              "      <th>2</th>\n",
              "      <td>JAY</td>\n",
              "      <td>FEDERALIST No. 3 The Same Subject Continued (C...</td>\n",
              "    </tr>\n",
              "    <tr>\n",
              "      <th>3</th>\n",
              "      <td>JAY</td>\n",
              "      <td>FEDERALIST No. 4 The Same Subject Continued (C...</td>\n",
              "    </tr>\n",
              "    <tr>\n",
              "      <th>4</th>\n",
              "      <td>JAY</td>\n",
              "      <td>FEDERALIST No. 5 The Same Subject Continued (C...</td>\n",
              "    </tr>\n",
              "  </tbody>\n",
              "</table>\n",
              "</div>\n",
              "      <button class=\"colab-df-convert\" onclick=\"convertToInteractive('df-ce00ff7e-2400-40f0-9eae-8d9f33c49439')\"\n",
              "              title=\"Convert this dataframe to an interactive table.\"\n",
              "              style=\"display:none;\">\n",
              "        \n",
              "  <svg xmlns=\"http://www.w3.org/2000/svg\" height=\"24px\"viewBox=\"0 0 24 24\"\n",
              "       width=\"24px\">\n",
              "    <path d=\"M0 0h24v24H0V0z\" fill=\"none\"/>\n",
              "    <path d=\"M18.56 5.44l.94 2.06.94-2.06 2.06-.94-2.06-.94-.94-2.06-.94 2.06-2.06.94zm-11 1L8.5 8.5l.94-2.06 2.06-.94-2.06-.94L8.5 2.5l-.94 2.06-2.06.94zm10 10l.94 2.06.94-2.06 2.06-.94-2.06-.94-.94-2.06-.94 2.06-2.06.94z\"/><path d=\"M17.41 7.96l-1.37-1.37c-.4-.4-.92-.59-1.43-.59-.52 0-1.04.2-1.43.59L10.3 9.45l-7.72 7.72c-.78.78-.78 2.05 0 2.83L4 21.41c.39.39.9.59 1.41.59.51 0 1.02-.2 1.41-.59l7.78-7.78 2.81-2.81c.8-.78.8-2.07 0-2.86zM5.41 20L4 18.59l7.72-7.72 1.47 1.35L5.41 20z\"/>\n",
              "  </svg>\n",
              "      </button>\n",
              "      \n",
              "  <style>\n",
              "    .colab-df-container {\n",
              "      display:flex;\n",
              "      flex-wrap:wrap;\n",
              "      gap: 12px;\n",
              "    }\n",
              "\n",
              "    .colab-df-convert {\n",
              "      background-color: #E8F0FE;\n",
              "      border: none;\n",
              "      border-radius: 50%;\n",
              "      cursor: pointer;\n",
              "      display: none;\n",
              "      fill: #1967D2;\n",
              "      height: 32px;\n",
              "      padding: 0 0 0 0;\n",
              "      width: 32px;\n",
              "    }\n",
              "\n",
              "    .colab-df-convert:hover {\n",
              "      background-color: #E2EBFA;\n",
              "      box-shadow: 0px 1px 2px rgba(60, 64, 67, 0.3), 0px 1px 3px 1px rgba(60, 64, 67, 0.15);\n",
              "      fill: #174EA6;\n",
              "    }\n",
              "\n",
              "    [theme=dark] .colab-df-convert {\n",
              "      background-color: #3B4455;\n",
              "      fill: #D2E3FC;\n",
              "    }\n",
              "\n",
              "    [theme=dark] .colab-df-convert:hover {\n",
              "      background-color: #434B5C;\n",
              "      box-shadow: 0px 1px 3px 1px rgba(0, 0, 0, 0.15);\n",
              "      filter: drop-shadow(0px 1px 2px rgba(0, 0, 0, 0.3));\n",
              "      fill: #FFFFFF;\n",
              "    }\n",
              "  </style>\n",
              "\n",
              "      <script>\n",
              "        const buttonEl =\n",
              "          document.querySelector('#df-ce00ff7e-2400-40f0-9eae-8d9f33c49439 button.colab-df-convert');\n",
              "        buttonEl.style.display =\n",
              "          google.colab.kernel.accessAllowed ? 'block' : 'none';\n",
              "\n",
              "        async function convertToInteractive(key) {\n",
              "          const element = document.querySelector('#df-ce00ff7e-2400-40f0-9eae-8d9f33c49439');\n",
              "          const dataTable =\n",
              "            await google.colab.kernel.invokeFunction('convertToInteractive',\n",
              "                                                     [key], {});\n",
              "          if (!dataTable) return;\n",
              "\n",
              "          const docLinkHtml = 'Like what you see? Visit the ' +\n",
              "            '<a target=\"_blank\" href=https://colab.research.google.com/notebooks/data_table.ipynb>data table notebook</a>'\n",
              "            + ' to learn more about interactive tables.';\n",
              "          element.innerHTML = '';\n",
              "          dataTable['output_type'] = 'display_data';\n",
              "          await google.colab.output.renderOutput(dataTable, element);\n",
              "          const docLink = document.createElement('div');\n",
              "          docLink.innerHTML = docLinkHtml;\n",
              "          element.appendChild(docLink);\n",
              "        }\n",
              "      </script>\n",
              "    </div>\n",
              "  </div>\n",
              "  "
            ]
          },
          "metadata": {},
          "execution_count": 22
        }
      ]
    },
    {
      "cell_type": "code",
      "source": [
        "#display the counts by author\n",
        "print('Counts by author:\\n')\n",
        "df.author.value_counts()"
      ],
      "metadata": {
        "colab": {
          "base_uri": "https://localhost:8080/"
        },
        "id": "IkeKVCr59dIM",
        "outputId": "d13bc8cf-25e7-44b7-e1b3-7545d33f9fd8"
      },
      "execution_count": 23,
      "outputs": [
        {
          "output_type": "stream",
          "name": "stdout",
          "text": [
            "Counts by author:\n",
            "\n"
          ]
        },
        {
          "output_type": "execute_result",
          "data": {
            "text/plain": [
              "HAMILTON                49\n",
              "MADISON                 15\n",
              "HAMILTON OR MADISON     11\n",
              "JAY                      5\n",
              "HAMILTON AND MADISON     3\n",
              "Name: author, dtype: int64"
            ]
          },
          "metadata": {},
          "execution_count": 23
        }
      ]
    },
    {
      "cell_type": "markdown",
      "source": [
        "##Create Train and Test Data Using Sklearn"
      ],
      "metadata": {
        "id": "n0H_lCL0Gjmj"
      }
    },
    {
      "cell_type": "code",
      "source": [
        "from sklearn.model_selection import train_test_split\n",
        "\n",
        "# 80/20 with random state = 1234\n",
        "# X = predictor variables (text)\n",
        "# y = target variable (author)\n",
        "X_train, X_test, y_train, y_test = train_test_split(df.text, df.author, test_size=0.2, random_state=1234)\n",
        "\n",
        "print('The shape of train data:\\t', X_train.shape)\n",
        "print('The shape of test data: \\t', X_test.shape)\n"
      ],
      "metadata": {
        "colab": {
          "base_uri": "https://localhost:8080/"
        },
        "id": "Yz3XpKlj9dKv",
        "outputId": "449ad869-c821-46b0-de83-3b4909b4fbcc"
      },
      "execution_count": 26,
      "outputs": [
        {
          "output_type": "stream",
          "name": "stdout",
          "text": [
            "The shape of train data:\t (66,)\n",
            "The shape of test data: \t (17,)\n"
          ]
        }
      ]
    },
    {
      "cell_type": "markdown",
      "source": [
        "##Remove Stop Words and Perform Tf-Idf Vectoriztion"
      ],
      "metadata": {
        "id": "TSJfJ9QyFcuo"
      }
    },
    {
      "cell_type": "code",
      "source": [
        "import nltk\n",
        "nltk.download('stopwords')"
      ],
      "metadata": {
        "id": "VZo-Pgdk9dNP"
      },
      "execution_count": null,
      "outputs": []
    },
    {
      "cell_type": "code",
      "source": [
        "from nltk.corpus import stopwords\n",
        "stopwords = set(stopwords.words('english'))"
      ],
      "metadata": {
        "id": "sfEfVm9IGDpO"
      },
      "execution_count": 28,
      "outputs": []
    },
    {
      "cell_type": "code",
      "source": [
        "from sklearn.feature_extraction.text import TfidfVectorizer\n",
        "tfidf_vectorizer = TfidfVectorizer(stop_words=stopwords)\n",
        "\n",
        "# fit to the training data only\n",
        "X_train_v = tfidf_vectorizer.fit_transform(X_train)\n",
        "X_test_v = tfidf_vectorizer.transform(X_test)\n",
        "\n",
        "print('The shape of the vectorized train data:\\t', X_train_v.shape)\n",
        "print('The shape of the vectorized test data: \\t', X_test_v.shape)"
      ],
      "metadata": {
        "colab": {
          "base_uri": "https://localhost:8080/"
        },
        "id": "BiQILs4V9dPz",
        "outputId": "9346937f-5003-4820-cd58-7351b35c8679"
      },
      "execution_count": 29,
      "outputs": [
        {
          "output_type": "stream",
          "name": "stdout",
          "text": [
            "The shape of the vectorized train data:\t (66, 7876)\n",
            "The shape of the vectorized test data: \t (17, 7876)\n"
          ]
        }
      ]
    },
    {
      "cell_type": "markdown",
      "source": [
        "##Bernoulli Naïve Bayes"
      ],
      "metadata": {
        "id": "L9pn9EUxLKcB"
      }
    },
    {
      "cell_type": "code",
      "source": [
        "from sklearn.naive_bayes import BernoulliNB\n",
        "bnb = BernoulliNB()\n",
        "\n",
        "bnb.fit(X_train_v, y_train)\n",
        "print('Accuracy on the test set: ', bnb.score(X_train_v, y_train))"
      ],
      "metadata": {
        "id": "6WN7baqo9dVE",
        "colab": {
          "base_uri": "https://localhost:8080/"
        },
        "outputId": "b25173ca-cc23-4b50-d4dc-7ae3dfbdf6e7"
      },
      "execution_count": 30,
      "outputs": [
        {
          "output_type": "stream",
          "name": "stdout",
          "text": [
            "Accuracy on the test set:  0.7727272727272727\n"
          ]
        }
      ]
    },
    {
      "cell_type": "markdown",
      "source": [
        "### Redo Tf-Idf Vectoriztion to Improve Accuracy"
      ],
      "metadata": {
        "id": "o_UoJjjKQ8uz"
      }
    },
    {
      "cell_type": "code",
      "source": [
        "from sklearn.feature_extraction.text import TfidfVectorizer\n",
        "tfidf_vectorizer = TfidfVectorizer(stop_words=stopwords, max_features=1000, ngram_range=(1,2))\n",
        "\n",
        "X_train_v2 = tfidf_vectorizer.fit_transform(X_train)\n",
        "X_test_v2 = tfidf_vectorizer.transform(X_test)\n",
        "\n",
        "print('The shape of the new vectorized train data:\\t', X_train_v2.shape)\n",
        "print('The shape of the new vectorized test data: \\t', X_test_v2.shape)"
      ],
      "metadata": {
        "id": "q_iCvHzl9dXK",
        "colab": {
          "base_uri": "https://localhost:8080/"
        },
        "outputId": "29b01767-c8d8-4c30-de31-0fdb0cbddf11"
      },
      "execution_count": 31,
      "outputs": [
        {
          "output_type": "stream",
          "name": "stdout",
          "text": [
            "The shape of the new vectorized train data:\t (66, 1000)\n",
            "The shape of the new vectorized test data: \t (17, 1000)\n"
          ]
        }
      ]
    },
    {
      "cell_type": "code",
      "source": [
        "bnb.fit(X_train_v2, y_train)\n",
        "print('Accuracy on the new test set: ', bnb.score(X_train_v2, y_train))"
      ],
      "metadata": {
        "id": "Q0RjcjrM9dZi",
        "colab": {
          "base_uri": "https://localhost:8080/"
        },
        "outputId": "611a482e-4cd9-4990-ffba-927401ce12a1"
      },
      "execution_count": 32,
      "outputs": [
        {
          "output_type": "stream",
          "name": "stdout",
          "text": [
            "Accuracy on the new test set:  1.0\n"
          ]
        }
      ]
    },
    {
      "cell_type": "markdown",
      "source": [
        "##Logistic Regression v1\n",
        "> no parameters"
      ],
      "metadata": {
        "id": "49DZGFplS8LG"
      }
    },
    {
      "cell_type": "code",
      "source": [
        "from sklearn.metrics._plot.confusion_matrix import confusion_matrix\n",
        "from sklearn.linear_model import LogisticRegression\n",
        "lr = LogisticRegression()\n",
        "lr.fit(X_train_v2, y_train)\n",
        "\n",
        "# for evaluating\n",
        "lr_pred = lr.predict(X_test_v2)"
      ],
      "metadata": {
        "id": "8AhSApk29dcI"
      },
      "execution_count": 53,
      "outputs": []
    },
    {
      "cell_type": "markdown",
      "source": [
        "###Classification Report"
      ],
      "metadata": {
        "id": "7w391vMwXm0Q"
      }
    },
    {
      "cell_type": "code",
      "source": [
        "from sklearn.metrics import classification_report\n",
        "print(classification_report(y_test, lr_pred))"
      ],
      "metadata": {
        "id": "AwQ93QIL9dee",
        "colab": {
          "base_uri": "https://localhost:8080/"
        },
        "outputId": "bf7760ff-4c99-4beb-a214-8074a94c6079"
      },
      "execution_count": 54,
      "outputs": [
        {
          "output_type": "stream",
          "name": "stdout",
          "text": [
            "                     precision    recall  f1-score   support\n",
            "\n",
            "           HAMILTON       0.59      1.00      0.74        10\n",
            "HAMILTON OR MADISON       0.00      0.00      0.00         3\n",
            "                JAY       0.00      0.00      0.00         2\n",
            "            MADISON       0.00      0.00      0.00         2\n",
            "\n",
            "           accuracy                           0.59        17\n",
            "          macro avg       0.15      0.25      0.19        17\n",
            "       weighted avg       0.35      0.59      0.44        17\n",
            "\n"
          ]
        },
        {
          "output_type": "stream",
          "name": "stderr",
          "text": [
            "/usr/local/lib/python3.7/dist-packages/sklearn/metrics/_classification.py:1318: UndefinedMetricWarning: Precision and F-score are ill-defined and being set to 0.0 in labels with no predicted samples. Use `zero_division` parameter to control this behavior.\n",
            "  _warn_prf(average, modifier, msg_start, len(result))\n",
            "/usr/local/lib/python3.7/dist-packages/sklearn/metrics/_classification.py:1318: UndefinedMetricWarning: Precision and F-score are ill-defined and being set to 0.0 in labels with no predicted samples. Use `zero_division` parameter to control this behavior.\n",
            "  _warn_prf(average, modifier, msg_start, len(result))\n",
            "/usr/local/lib/python3.7/dist-packages/sklearn/metrics/_classification.py:1318: UndefinedMetricWarning: Precision and F-score are ill-defined and being set to 0.0 in labels with no predicted samples. Use `zero_division` parameter to control this behavior.\n",
            "  _warn_prf(average, modifier, msg_start, len(result))\n"
          ]
        }
      ]
    },
    {
      "cell_type": "markdown",
      "source": [
        "###Confusion Matrix"
      ],
      "metadata": {
        "id": "3Njc3clcYY4C"
      }
    },
    {
      "cell_type": "code",
      "source": [
        "print(confusion_matrix(y_test, lr_pred))"
      ],
      "metadata": {
        "colab": {
          "base_uri": "https://localhost:8080/"
        },
        "id": "VQMqtjvPXCOc",
        "outputId": "f11318ee-342a-4c61-c523-0bc72f03f935"
      },
      "execution_count": 55,
      "outputs": [
        {
          "output_type": "stream",
          "name": "stdout",
          "text": [
            "[[10  0  0  0]\n",
            " [ 3  0  0  0]\n",
            " [ 2  0  0  0]\n",
            " [ 2  0  0  0]]\n"
          ]
        }
      ]
    },
    {
      "cell_type": "markdown",
      "source": [
        "###Overall Accuracy"
      ],
      "metadata": {
        "id": "6D8Bgd77Yni1"
      }
    },
    {
      "cell_type": "code",
      "source": [
        "import numpy as np\n",
        "print(np.mean(lr_pred == y_test))"
      ],
      "metadata": {
        "id": "ghlJXHJv9dhA",
        "colab": {
          "base_uri": "https://localhost:8080/"
        },
        "outputId": "b386660b-6dd4-447d-fc2f-d881add9d3ff"
      },
      "execution_count": 56,
      "outputs": [
        {
          "output_type": "stream",
          "name": "stdout",
          "text": [
            "0.5882352941176471\n"
          ]
        }
      ]
    },
    {
      "cell_type": "markdown",
      "source": [
        "##Logistic Regression v2\n",
        "> solver = 'lbfgs'<br>\n",
        "> multi_class = 'multinomial'<br>\n",
        "> class_weight = 'balanced'"
      ],
      "metadata": {
        "id": "-KgieyLgZo1W"
      }
    },
    {
      "cell_type": "code",
      "source": [
        "lr = LogisticRegression(solver='lbfgs', multi_class='multinomial', class_weight='balanced')\n",
        "lr.fit(X_train_v2, y_train)\n",
        "\n",
        "# for evaluation\n",
        "lr_pred = lr.predict(X_test_v2)"
      ],
      "metadata": {
        "id": "SV-ROqW49djf"
      },
      "execution_count": 66,
      "outputs": []
    },
    {
      "cell_type": "markdown",
      "source": [
        "###Classification Report"
      ],
      "metadata": {
        "id": "F4REvXo1cGrF"
      }
    },
    {
      "cell_type": "code",
      "source": [
        "print(classification_report(y_test, lr_pred))"
      ],
      "metadata": {
        "colab": {
          "base_uri": "https://localhost:8080/"
        },
        "id": "NNUwQB6kaX49",
        "outputId": "85b4740c-ef87-4912-dbed-24eb79183648"
      },
      "execution_count": 67,
      "outputs": [
        {
          "output_type": "stream",
          "name": "stdout",
          "text": [
            "                     precision    recall  f1-score   support\n",
            "\n",
            "           HAMILTON       0.83      1.00      0.91        10\n",
            "HAMILTON OR MADISON       0.67      0.67      0.67         3\n",
            "                JAY       1.00      0.50      0.67         2\n",
            "            MADISON       0.00      0.00      0.00         2\n",
            "\n",
            "           accuracy                           0.76        17\n",
            "          macro avg       0.62      0.54      0.56        17\n",
            "       weighted avg       0.73      0.76      0.73        17\n",
            "\n"
          ]
        }
      ]
    },
    {
      "cell_type": "markdown",
      "source": [
        "###Confusion Matrix"
      ],
      "metadata": {
        "id": "42A_vQZWcTtc"
      }
    },
    {
      "cell_type": "code",
      "source": [
        "print(confusion_matrix(y_test, lr_pred))"
      ],
      "metadata": {
        "colab": {
          "base_uri": "https://localhost:8080/"
        },
        "id": "hL3l96b7aX2c",
        "outputId": "713b5543-ea88-432f-92b3-262bf049eb57"
      },
      "execution_count": 68,
      "outputs": [
        {
          "output_type": "stream",
          "name": "stdout",
          "text": [
            "[[10  0  0  0]\n",
            " [ 0  2  0  1]\n",
            " [ 1  0  1  0]\n",
            " [ 1  1  0  0]]\n"
          ]
        }
      ]
    },
    {
      "cell_type": "markdown",
      "source": [
        "###Overall Accuracy"
      ],
      "metadata": {
        "id": "E7AfdqzrceJF"
      }
    },
    {
      "cell_type": "code",
      "source": [
        "print(np.mean(lr_pred == y_test))"
      ],
      "metadata": {
        "colab": {
          "base_uri": "https://localhost:8080/"
        },
        "id": "sa8KfEULaXzs",
        "outputId": "e39f295d-44b8-4e79-a51a-eaab4cf6cbb8"
      },
      "execution_count": 69,
      "outputs": [
        {
          "output_type": "stream",
          "name": "stdout",
          "text": [
            "0.7647058823529411\n"
          ]
        }
      ]
    },
    {
      "cell_type": "markdown",
      "source": [
        "##Neural Network v1\n",
        "> hidden_layer_sizes = (1,1)<br>\n",
        "> solvee = 'lbfgs'<br>"
      ],
      "metadata": {
        "id": "Sa4Dsm-Uhj3g"
      }
    },
    {
      "cell_type": "code",
      "source": [
        "nn = MLPClassifier(hidden_layer_sizes=(1,1), solver='lbfgs')\n",
        "nn.fit(X_train_v2, y_train)\n",
        "\n",
        "# for evaluation\n",
        "nn_pred = nn.predict(X_test_v2)"
      ],
      "metadata": {
        "id": "PzQSGGx6hocv"
      },
      "execution_count": 140,
      "outputs": []
    },
    {
      "cell_type": "markdown",
      "source": [
        "###Classification Report"
      ],
      "metadata": {
        "id": "e0gEmw93hpvi"
      }
    },
    {
      "cell_type": "code",
      "source": [
        "print(classification_report(y_test, nn_pred))"
      ],
      "metadata": {
        "colab": {
          "base_uri": "https://localhost:8080/"
        },
        "id": "McnGkzcZhpBB",
        "outputId": "7f5f3d01-de68-4bbc-9816-8ece91a99e6f"
      },
      "execution_count": 144,
      "outputs": [
        {
          "output_type": "stream",
          "name": "stdout",
          "text": [
            "                     precision    recall  f1-score   support\n",
            "\n",
            "           HAMILTON       0.59      1.00      0.74        10\n",
            "HAMILTON OR MADISON       0.00      0.00      0.00         3\n",
            "                JAY       0.00      0.00      0.00         2\n",
            "            MADISON       0.00      0.00      0.00         2\n",
            "\n",
            "           accuracy                           0.59        17\n",
            "          macro avg       0.15      0.25      0.19        17\n",
            "       weighted avg       0.35      0.59      0.44        17\n",
            "\n"
          ]
        },
        {
          "output_type": "stream",
          "name": "stderr",
          "text": [
            "/usr/local/lib/python3.7/dist-packages/sklearn/metrics/_classification.py:1318: UndefinedMetricWarning: Precision and F-score are ill-defined and being set to 0.0 in labels with no predicted samples. Use `zero_division` parameter to control this behavior.\n",
            "  _warn_prf(average, modifier, msg_start, len(result))\n",
            "/usr/local/lib/python3.7/dist-packages/sklearn/metrics/_classification.py:1318: UndefinedMetricWarning: Precision and F-score are ill-defined and being set to 0.0 in labels with no predicted samples. Use `zero_division` parameter to control this behavior.\n",
            "  _warn_prf(average, modifier, msg_start, len(result))\n",
            "/usr/local/lib/python3.7/dist-packages/sklearn/metrics/_classification.py:1318: UndefinedMetricWarning: Precision and F-score are ill-defined and being set to 0.0 in labels with no predicted samples. Use `zero_division` parameter to control this behavior.\n",
            "  _warn_prf(average, modifier, msg_start, len(result))\n"
          ]
        }
      ]
    },
    {
      "cell_type": "markdown",
      "source": [
        "###Confustion Matrix"
      ],
      "metadata": {
        "id": "t_S5RzlShqAC"
      }
    },
    {
      "cell_type": "code",
      "source": [
        "print(confusion_matrix(y_test, nn_pred))"
      ],
      "metadata": {
        "colab": {
          "base_uri": "https://localhost:8080/"
        },
        "id": "Knmn2xQzhoU2",
        "outputId": "14fcab77-514b-4b77-d3df-9402072b05d3"
      },
      "execution_count": 145,
      "outputs": [
        {
          "output_type": "stream",
          "name": "stdout",
          "text": [
            "[[10  0  0  0]\n",
            " [ 3  0  0  0]\n",
            " [ 2  0  0  0]\n",
            " [ 2  0  0  0]]\n"
          ]
        }
      ]
    },
    {
      "cell_type": "markdown",
      "source": [
        "###Overall Accuracy"
      ],
      "metadata": {
        "id": "N5PupZ-ohqaE"
      }
    },
    {
      "cell_type": "code",
      "source": [
        "print(np.mean(nn_pred == y_test))"
      ],
      "metadata": {
        "colab": {
          "base_uri": "https://localhost:8080/"
        },
        "id": "5rgDlfEKhoBM",
        "outputId": "dfe7d7b5-bfe8-4467-aea4-b54897e0d147"
      },
      "execution_count": 146,
      "outputs": [
        {
          "output_type": "stream",
          "name": "stdout",
          "text": [
            "0.5882352941176471\n"
          ]
        }
      ]
    },
    {
      "cell_type": "markdown",
      "source": [
        "##Neural Network v2\n",
        "> hidden_layer_sizes = (3,1)<br>\n",
        "> solver = 'lbfgs'"
      ],
      "metadata": {
        "id": "TvHUckpeaQif"
      }
    },
    {
      "cell_type": "code",
      "source": [
        "from sklearn.neural_network import MLPClassifier\n",
        "nn = MLPClassifier(hidden_layer_sizes=(3,1), solver='lbfgs')\n",
        "nn.fit(X_train_v2, y_train)\n",
        "\n",
        "# for evaluation\n",
        "nn_pred = nn.predict(X_test_v2)"
      ],
      "metadata": {
        "id": "6fDX_Hk8daj1"
      },
      "execution_count": 147,
      "outputs": []
    },
    {
      "cell_type": "markdown",
      "source": [
        "###Classification Report"
      ],
      "metadata": {
        "id": "L4msMc0LaNT0"
      }
    },
    {
      "cell_type": "code",
      "source": [
        "print(classification_report(y_test, nn_pred))"
      ],
      "metadata": {
        "colab": {
          "base_uri": "https://localhost:8080/"
        },
        "id": "H0OX2SGLdaZI",
        "outputId": "f6de3397-a577-461e-d1ba-45232248c8a7"
      },
      "execution_count": 148,
      "outputs": [
        {
          "output_type": "stream",
          "name": "stdout",
          "text": [
            "                     precision    recall  f1-score   support\n",
            "\n",
            "           HAMILTON       0.91      1.00      0.95        10\n",
            "HAMILTON OR MADISON       1.00      0.33      0.50         3\n",
            "                JAY       0.00      0.00      0.00         2\n",
            "            MADISON       0.40      1.00      0.57         2\n",
            "\n",
            "           accuracy                           0.76        17\n",
            "          macro avg       0.58      0.58      0.51        17\n",
            "       weighted avg       0.76      0.76      0.72        17\n",
            "\n"
          ]
        },
        {
          "output_type": "stream",
          "name": "stderr",
          "text": [
            "/usr/local/lib/python3.7/dist-packages/sklearn/metrics/_classification.py:1318: UndefinedMetricWarning: Precision and F-score are ill-defined and being set to 0.0 in labels with no predicted samples. Use `zero_division` parameter to control this behavior.\n",
            "  _warn_prf(average, modifier, msg_start, len(result))\n",
            "/usr/local/lib/python3.7/dist-packages/sklearn/metrics/_classification.py:1318: UndefinedMetricWarning: Precision and F-score are ill-defined and being set to 0.0 in labels with no predicted samples. Use `zero_division` parameter to control this behavior.\n",
            "  _warn_prf(average, modifier, msg_start, len(result))\n",
            "/usr/local/lib/python3.7/dist-packages/sklearn/metrics/_classification.py:1318: UndefinedMetricWarning: Precision and F-score are ill-defined and being set to 0.0 in labels with no predicted samples. Use `zero_division` parameter to control this behavior.\n",
            "  _warn_prf(average, modifier, msg_start, len(result))\n"
          ]
        }
      ]
    },
    {
      "cell_type": "markdown",
      "source": [
        "###Confustion Matrix"
      ],
      "metadata": {
        "id": "G-qCcF4OgiI0"
      }
    },
    {
      "cell_type": "code",
      "source": [
        "print(confusion_matrix(y_test, nn_pred))"
      ],
      "metadata": {
        "colab": {
          "base_uri": "https://localhost:8080/"
        },
        "id": "BPHysONggi1E",
        "outputId": "a5909c65-e988-463a-dbeb-f72844cfc743"
      },
      "execution_count": 149,
      "outputs": [
        {
          "output_type": "stream",
          "name": "stdout",
          "text": [
            "[[10  0  0  0]\n",
            " [ 0  1  0  2]\n",
            " [ 1  0  0  1]\n",
            " [ 0  0  0  2]]\n"
          ]
        }
      ]
    },
    {
      "cell_type": "markdown",
      "source": [
        "###Overall Accuracy"
      ],
      "metadata": {
        "id": "VtqsTx8vhQE6"
      }
    },
    {
      "cell_type": "code",
      "source": [
        "print(np.mean(nn_pred == y_test))"
      ],
      "metadata": {
        "colab": {
          "base_uri": "https://localhost:8080/"
        },
        "id": "hOm9c-u0hTvE",
        "outputId": "51c448dc-6932-4961-c1b2-c00566eb8370"
      },
      "execution_count": 150,
      "outputs": [
        {
          "output_type": "stream",
          "name": "stdout",
          "text": [
            "0.7647058823529411\n"
          ]
        }
      ]
    }
  ]
}