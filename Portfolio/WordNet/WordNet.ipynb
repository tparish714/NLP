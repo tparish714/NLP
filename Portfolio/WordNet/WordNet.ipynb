{
  "nbformat": 4,
  "nbformat_minor": 0,
  "metadata": {
    "colab": {
      "provenance": [],
      "collapsed_sections": []
    },
    "kernelspec": {
      "name": "python3",
      "display_name": "Python 3"
    },
    "language_info": {
      "name": "python"
    }
  },
  "cells": [
    {
      "cell_type": "markdown",
      "source": [
        "# **WordNet**\n",
        "\n",
        "## Summary\n",
        "Wordnet is an NLTK component: a lexical English database. Nouns, adjectives, adverbs, and verbs are organized into sets of sets of cognitive synonyms (synsets). WordNet can be used to look up word definitions, usage examples, and lemmas.\n",
        "\n",
        "## Semantic Relations\n",
        "The hierarchical relations include:\n",
        "* hypernym: superordinate to this entry\n",
        "* hyponym: subordinate to this entry\n",
        "* meronym: part of this entry’s referent\n",
        "* holonym: has this entry’s referent as a part of itself\n",
        "* troponym:a particular way to do this entry’s referent<br>\n",
        "\n",
        "<br>\n",
        "\n"
      ],
      "metadata": {
        "id": "XTa35MTOvVJb"
      }
    },
    {
      "cell_type": "code",
      "source": [
        "# set up NLTK and WordNet\n",
        "import nltk\n",
        "nltk.download('omw-1.4')\n",
        "nltk.download('wordnet')\n",
        "from nltk.corpus import wordnet as wn"
      ],
      "metadata": {
        "id": "p28QE1Prj3cY"
      },
      "execution_count": null,
      "outputs": []
    },
    {
      "cell_type": "markdown",
      "source": [
        "### Noun Hierarchy\n",
        "Nouns have the most related synsets, with \"'entity.n.01'\" as the top level synset for all nouns."
      ],
      "metadata": {
        "id": "-xBQ-9oD6lzI"
      }
    },
    {
      "cell_type": "code",
      "source": [
        "# Select a noun. Output all synsets. \n",
        "wn.synsets('house')"
      ],
      "metadata": {
        "colab": {
          "base_uri": "https://localhost:8080/"
        },
        "id": "2U6Y45OJj3hw",
        "outputId": "262e62f1-2e72-4d96-f432-5db7bb285b1f"
      },
      "execution_count": null,
      "outputs": [
        {
          "output_type": "execute_result",
          "data": {
            "text/plain": [
              "[Synset('house.n.01'),\n",
              " Synset('firm.n.01'),\n",
              " Synset('house.n.03'),\n",
              " Synset('house.n.04'),\n",
              " Synset('house.n.05'),\n",
              " Synset('house.n.06'),\n",
              " Synset('house.n.07'),\n",
              " Synset('sign_of_the_zodiac.n.01'),\n",
              " Synset('house.n.09'),\n",
              " Synset('family.n.01'),\n",
              " Synset('theater.n.01'),\n",
              " Synset('house.n.12'),\n",
              " Synset('house.v.01'),\n",
              " Synset('house.v.02')]"
            ]
          },
          "metadata": {},
          "execution_count": 11
        }
      ]
    },
    {
      "cell_type": "code",
      "source": [
        "# Select one synset from the list of synsets\n",
        "house= wn.synset('house.n.01')"
      ],
      "metadata": {
        "id": "eesZLq42q-GA"
      },
      "execution_count": null,
      "outputs": []
    },
    {
      "cell_type": "code",
      "source": [
        "# definition\n",
        "house.definition()"
      ],
      "metadata": {
        "colab": {
          "base_uri": "https://localhost:8080/",
          "height": 35
        },
        "id": "XN_EnMFFj3kM",
        "outputId": "87733975-a551-434b-a839-c3ff02da2267"
      },
      "execution_count": null,
      "outputs": [
        {
          "output_type": "execute_result",
          "data": {
            "text/plain": [
              "'a dwelling that serves as living quarters for one or more families'"
            ],
            "application/vnd.google.colaboratory.intrinsic+json": {
              "type": "string"
            }
          },
          "metadata": {},
          "execution_count": 13
        }
      ]
    },
    {
      "cell_type": "code",
      "source": [
        "# usage examples\n",
        "house.examples()"
      ],
      "metadata": {
        "colab": {
          "base_uri": "https://localhost:8080/"
        },
        "id": "7ZHXYvGcj3mo",
        "outputId": "0203f220-efe8-4812-fc95-164c249eba56"
      },
      "execution_count": null,
      "outputs": [
        {
          "output_type": "execute_result",
          "data": {
            "text/plain": [
              "['he has a house on Cape Cod', 'she felt she had to get out of the house']"
            ]
          },
          "metadata": {},
          "execution_count": 14
        }
      ]
    },
    {
      "cell_type": "code",
      "source": [
        "# lemmas\n",
        "house.lemmas()"
      ],
      "metadata": {
        "colab": {
          "base_uri": "https://localhost:8080/"
        },
        "id": "Kkdiu451j3pA",
        "outputId": "c0009d77-e30b-45a4-80be-aa4d8022fe73"
      },
      "execution_count": null,
      "outputs": [
        {
          "output_type": "execute_result",
          "data": {
            "text/plain": [
              "[Lemma('house.n.01.house')]"
            ]
          },
          "metadata": {},
          "execution_count": 15
        }
      ]
    },
    {
      "cell_type": "code",
      "source": [
        "# hypernyms\n",
        "house.hypernyms()"
      ],
      "metadata": {
        "colab": {
          "base_uri": "https://localhost:8080/"
        },
        "id": "ZQsyESj7pk6O",
        "outputId": "68c70eaa-8751-41dc-efd1-e3c09bb1dbd2"
      },
      "execution_count": null,
      "outputs": [
        {
          "output_type": "execute_result",
          "data": {
            "text/plain": [
              "[Synset('building.n.01'), Synset('dwelling.n.01')]"
            ]
          },
          "metadata": {},
          "execution_count": 17
        }
      ]
    },
    {
      "cell_type": "code",
      "source": [
        "# hyponyms\n",
        "house.hyponyms()"
      ],
      "metadata": {
        "colab": {
          "base_uri": "https://localhost:8080/"
        },
        "id": "v0DAwB1qpomV",
        "outputId": "7ed11cc6-e11f-4427-bdb2-d0ff97cb5d78"
      },
      "execution_count": null,
      "outputs": [
        {
          "output_type": "execute_result",
          "data": {
            "text/plain": [
              "[Synset('beach_house.n.01'),\n",
              " Synset('boarding_house.n.01'),\n",
              " Synset('bungalow.n.01'),\n",
              " Synset('cabin.n.02'),\n",
              " Synset('chalet.n.01'),\n",
              " Synset('chapterhouse.n.02'),\n",
              " Synset('country_house.n.01'),\n",
              " Synset('detached_house.n.01'),\n",
              " Synset('dollhouse.n.01'),\n",
              " Synset('duplex_house.n.01'),\n",
              " Synset('farmhouse.n.01'),\n",
              " Synset('gatehouse.n.01'),\n",
              " Synset('guesthouse.n.01'),\n",
              " Synset('hacienda.n.02'),\n",
              " Synset('lodge.n.04'),\n",
              " Synset('lodging_house.n.01'),\n",
              " Synset('maisonette.n.02'),\n",
              " Synset('mansion.n.02'),\n",
              " Synset('ranch_house.n.01'),\n",
              " Synset('residence.n.02'),\n",
              " Synset('row_house.n.01'),\n",
              " Synset('safe_house.n.01'),\n",
              " Synset('saltbox.n.01'),\n",
              " Synset('sod_house.n.01'),\n",
              " Synset('solar_house.n.01'),\n",
              " Synset('tract_house.n.01'),\n",
              " Synset('villa.n.02')]"
            ]
          },
          "metadata": {},
          "execution_count": 18
        }
      ]
    },
    {
      "cell_type": "code",
      "source": [
        "# meronyms\n",
        "house.part_meronyms()"
      ],
      "metadata": {
        "colab": {
          "base_uri": "https://localhost:8080/"
        },
        "id": "p98etlSoppAV",
        "outputId": "b916ac7f-20ff-407f-acee-dd5fe386813d"
      },
      "execution_count": null,
      "outputs": [
        {
          "output_type": "execute_result",
          "data": {
            "text/plain": [
              "[Synset('library.n.01'),\n",
              " Synset('loft.n.02'),\n",
              " Synset('porch.n.01'),\n",
              " Synset('study.n.05')]"
            ]
          },
          "metadata": {},
          "execution_count": 19
        }
      ]
    },
    {
      "cell_type": "code",
      "source": [
        "# holonyms\n",
        "house.part_holonyms()"
      ],
      "metadata": {
        "colab": {
          "base_uri": "https://localhost:8080/"
        },
        "id": "1Bd4e2jApp1E",
        "outputId": "90f3a63e-6bbe-4d2a-dc8d-0550bb1cc27e"
      },
      "execution_count": null,
      "outputs": [
        {
          "output_type": "execute_result",
          "data": {
            "text/plain": [
              "[]"
            ]
          },
          "metadata": {},
          "execution_count": 20
        }
      ]
    },
    {
      "cell_type": "code",
      "source": [
        "# antonym\n",
        "synset = wn.synsets(\"house\")\n",
        "for syns in synset:\n",
        "  for word in syns.lemmas():\n",
        "    if word.antonyms():\n",
        "      print(word.antonyms())"
      ],
      "metadata": {
        "id": "_XCOZe9bpqEw"
      },
      "execution_count": null,
      "outputs": []
    },
    {
      "cell_type": "code",
      "source": [
        "# traverse up the WordNet hierarchy\n",
        "hyp = house.hypernyms()[0]\n",
        "top = wn.synset('entity.n.01')\n",
        "while hyp:\n",
        "    print(hyp)\n",
        "    if hyp == top:\n",
        "        break\n",
        "    if hyp.hypernyms():\n",
        "        hyp = hyp.hypernyms()[0]"
      ],
      "metadata": {
        "colab": {
          "base_uri": "https://localhost:8080/"
        },
        "id": "eDEbgMzGj3rq",
        "outputId": "ec8453a2-1f24-43dc-ed59-efca48dc067d"
      },
      "execution_count": null,
      "outputs": [
        {
          "output_type": "stream",
          "name": "stdout",
          "text": [
            "Synset('building.n.01')\n",
            "Synset('structure.n.01')\n",
            "Synset('artifact.n.01')\n",
            "Synset('whole.n.02')\n",
            "Synset('object.n.01')\n",
            "Synset('physical_entity.n.01')\n",
            "Synset('entity.n.01')\n"
          ]
        }
      ]
    },
    {
      "cell_type": "markdown",
      "source": [
        "### Verb Hierarchy\n",
        "Verbs, unlike nouns, are not highly connected synsets, so they have few semantic connections; they are in a hypernym(super) - hyponym(sub) relationship. It is worth noting that no top level sysnet exists for all verbs."
      ],
      "metadata": {
        "id": "bZbCyJlG6oDK"
      }
    },
    {
      "cell_type": "code",
      "source": [
        "# Select a verb. Output all synsets.\n",
        "wn.synsets('push')"
      ],
      "metadata": {
        "colab": {
          "base_uri": "https://localhost:8080/"
        },
        "id": "HZ8f987ipqLU",
        "outputId": "d9bec4b9-a085-42fa-89c5-86e7a33b9304"
      },
      "execution_count": null,
      "outputs": [
        {
          "output_type": "execute_result",
          "data": {
            "text/plain": [
              "[Synset('push.n.01'),\n",
              " Synset('push.n.02'),\n",
              " Synset('energy.n.03'),\n",
              " Synset('push_button.n.01'),\n",
              " Synset('push.n.05'),\n",
              " Synset('push.v.01'),\n",
              " Synset('push.v.02'),\n",
              " Synset('advertise.v.02'),\n",
              " Synset('tug.v.02'),\n",
              " Synset('push.v.05'),\n",
              " Synset('push.v.06'),\n",
              " Synset('crusade.v.01'),\n",
              " Synset('push.v.08'),\n",
              " Synset('push.v.09'),\n",
              " Synset('press.v.11')]"
            ]
          },
          "metadata": {},
          "execution_count": 100
        }
      ]
    },
    {
      "cell_type": "code",
      "source": [
        "# Select one synset from the list of synsets\n",
        "push= wn.synset('push.v.01')"
      ],
      "metadata": {
        "id": "xaPaKXLdpqO1"
      },
      "execution_count": null,
      "outputs": []
    },
    {
      "cell_type": "code",
      "source": [
        "# definition\n",
        "push.definition()"
      ],
      "metadata": {
        "colab": {
          "base_uri": "https://localhost:8080/",
          "height": 35
        },
        "id": "24RxsfoMpqbR",
        "outputId": "00f9b01b-8945-4ca0-c17c-9164b190bc3a"
      },
      "execution_count": null,
      "outputs": [
        {
          "output_type": "execute_result",
          "data": {
            "text/plain": [
              "'move with force,'"
            ],
            "application/vnd.google.colaboratory.intrinsic+json": {
              "type": "string"
            }
          },
          "metadata": {},
          "execution_count": 102
        }
      ]
    },
    {
      "cell_type": "code",
      "source": [
        "# usage examples\n",
        "push.examples()"
      ],
      "metadata": {
        "colab": {
          "base_uri": "https://localhost:8080/"
        },
        "id": "r4EQKRyUpqjO",
        "outputId": "faf5d856-75c5-46c2-b2c3-0d234187d638"
      },
      "execution_count": null,
      "outputs": [
        {
          "output_type": "execute_result",
          "data": {
            "text/plain": [
              "['He pushed the table into a corner']"
            ]
          },
          "metadata": {},
          "execution_count": 103
        }
      ]
    },
    {
      "cell_type": "code",
      "source": [
        "# lemmas\n",
        "push.lemmas()"
      ],
      "metadata": {
        "colab": {
          "base_uri": "https://localhost:8080/"
        },
        "id": "xXFUAN9bpqpG",
        "outputId": "d406c83a-bbc1-4a7f-b6c1-af5656d26572"
      },
      "execution_count": null,
      "outputs": [
        {
          "output_type": "execute_result",
          "data": {
            "text/plain": [
              "[Lemma('push.v.01.push'), Lemma('push.v.01.force')]"
            ]
          },
          "metadata": {},
          "execution_count": 104
        }
      ]
    },
    {
      "cell_type": "code",
      "source": [
        "# traverse up the WordNet hierarchy \n",
        "hyp = push.hypernyms()[0]\n",
        "while hyp:\n",
        "    print(hyp)\n",
        "    if hyp.hypernyms():\n",
        "        hyp = hyp.hypernyms()[0]\n",
        "    else:\n",
        "      break\n",
        "    "
      ],
      "metadata": {
        "colab": {
          "base_uri": "https://localhost:8080/"
        },
        "id": "LcRPD4Gupqu8",
        "outputId": "93b96814-ff68-4126-9c28-85ea19e0fd7a"
      },
      "execution_count": null,
      "outputs": [
        {
          "output_type": "stream",
          "name": "stdout",
          "text": [
            "Synset('move.v.02')\n"
          ]
        }
      ]
    },
    {
      "cell_type": "markdown",
      "source": [
        "##Morphy\n",
        "get root forms of words"
      ],
      "metadata": {
        "id": "jphIUbi-BdGN"
      }
    },
    {
      "cell_type": "code",
      "source": [
        "# morphy\n",
        "wn.morphy('house')"
      ],
      "metadata": {
        "id": "VYbidkjPpqzo",
        "colab": {
          "base_uri": "https://localhost:8080/",
          "height": 35
        },
        "outputId": "5d25ad04-29ea-4a07-c4d6-fc3cdeb36a8c"
      },
      "execution_count": null,
      "outputs": [
        {
          "output_type": "execute_result",
          "data": {
            "text/plain": [
              "'house'"
            ],
            "application/vnd.google.colaboratory.intrinsic+json": {
              "type": "string"
            }
          },
          "metadata": {},
          "execution_count": 37
        }
      ]
    },
    {
      "cell_type": "code",
      "source": [
        "# morphy\n",
        "wn.morphy('sleep')"
      ],
      "metadata": {
        "id": "RXkOBWUjpq4y",
        "colab": {
          "base_uri": "https://localhost:8080/",
          "height": 35
        },
        "outputId": "fc3e78ac-f6fa-43e7-83c4-a927bbe53815"
      },
      "execution_count": null,
      "outputs": [
        {
          "output_type": "execute_result",
          "data": {
            "text/plain": [
              "'sleep'"
            ],
            "application/vnd.google.colaboratory.intrinsic+json": {
              "type": "string"
            }
          },
          "metadata": {},
          "execution_count": 38
        }
      ]
    },
    {
      "cell_type": "markdown",
      "source": [
        "## Word Similarity\n",
        "In this section, we will compare the words **'school'** and **'university'** to see how similar they are. <br>\n",
        "The similarity score ranges from 0(little similarity) to 1(identity). <br>\n",
        "WordNet and Wu-Palmer scores are 0.14 and 0.57, respectively.\n"
      ],
      "metadata": {
        "id": "oxclMxrtHuUY"
      }
    },
    {
      "cell_type": "code",
      "source": [
        "syn_school= wn.synsets('school')\n",
        "\n",
        "# definitions for 'school'\n",
        "for ss in syn_school:\n",
        "    print(ss, ss.definition())"
      ],
      "metadata": {
        "colab": {
          "base_uri": "https://localhost:8080/"
        },
        "id": "aBynnHM5s3N8",
        "outputId": "9b0312fc-8823-4c81-b09f-36d8d12ed850"
      },
      "execution_count": null,
      "outputs": [
        {
          "output_type": "stream",
          "name": "stdout",
          "text": [
            "Synset('school.n.01') an educational institution\n",
            "Synset('school.n.02') a building where young people receive education\n",
            "Synset('school.n.03') the process of being formally educated at a school\n",
            "Synset('school.n.04') a body of creative artists or writers or thinkers linked by a similar style or by similar teachers\n",
            "Synset('school.n.05') the period of instruction in a school; the time period when school is in session\n",
            "Synset('school.n.06') an educational institution's faculty and students\n",
            "Synset('school.n.07') a large group of fish\n",
            "Synset('school.v.01') educate in or as if in a school\n",
            "Synset('educate.v.03') teach or refine to be discriminative in taste or judgment\n",
            "Synset('school.v.03') swim in or form a large group of fish\n"
          ]
        }
      ]
    },
    {
      "cell_type": "code",
      "source": [
        "syn_university= wn.synsets('university')\n",
        "\n",
        "# definitions for 'university'\n",
        "for ss in syn_university:\n",
        "    print(ss, ss.definition())"
      ],
      "metadata": {
        "colab": {
          "base_uri": "https://localhost:8080/"
        },
        "id": "yCVPDj8TwSkX",
        "outputId": "047209ce-b463-42df-b6d0-2e0acf071ea5"
      },
      "execution_count": null,
      "outputs": [
        {
          "output_type": "stream",
          "name": "stdout",
          "text": [
            "Synset('university.n.01') the body of faculty and students at a university\n",
            "Synset('university.n.02') establishment where a seat of higher learning is housed, including administrative and living quarters as well as facilities for research and teaching\n",
            "Synset('university.n.03') a large and diverse institution of higher learning created to educate for life and for a profession and to grant degrees\n"
          ]
        }
      ]
    },
    {
      "cell_type": "code",
      "source": [
        "# from WordNet\n",
        "school= wn.synset('school.n.01')\n",
        "university= wn.synset('university.n.01')\n",
        "\n",
        "print('WordNet: ', school.path_similarity(university))"
      ],
      "metadata": {
        "colab": {
          "base_uri": "https://localhost:8080/"
        },
        "id": "dac6VQDxIzWt",
        "outputId": "060a3044-e47f-450d-c519-1fbaad44e4fc"
      },
      "execution_count": null,
      "outputs": [
        {
          "output_type": "stream",
          "name": "stdout",
          "text": [
            "WordNet:  0.14285714285714285\n"
          ]
        }
      ]
    },
    {
      "cell_type": "code",
      "source": [
        "# Wu-Palmer similarity metric \n",
        "school= wn.synset('school.n.01')\n",
        "university= wn.synset('university.n.01')\n",
        "print('Wu-Palmer: ', wn.wup_similarity(school, university))"
      ],
      "metadata": {
        "colab": {
          "base_uri": "https://localhost:8080/"
        },
        "id": "fVnFp0nus3ih",
        "outputId": "9dc74a2f-bd7b-41b9-8db4-bbb9b551b56e"
      },
      "execution_count": null,
      "outputs": [
        {
          "output_type": "stream",
          "name": "stdout",
          "text": [
            "Wu-Palmer:  0.5714285714285714\n"
          ]
        }
      ]
    },
    {
      "cell_type": "code",
      "source": [
        "# Lesk algorithm\n",
        "# returns the synset with the highest number of overlapping words between \n",
        "# the context sentence and the definitions in each synset for the target word\n",
        "from nltk.wsd import lesk\n",
        "\n",
        "sent1= list('I do not want to go to school')\n",
        "print(lesk(sent1, 'school', 'n'))\n",
        "print(lesk(sent1, 'school'), '\\n')\n",
        "\n",
        "sent2= list('The true university of these days is a collection of books')\n",
        "print(lesk(sent2, 'university', 'n'))\n",
        "print(lesk(sent2, 'university'), '\\n')\n",
        "\n",
        "print(lesk('school', 'university'))\n",
        "print(wn.synset('university.n.03').definition())"
      ],
      "metadata": {
        "colab": {
          "base_uri": "https://localhost:8080/"
        },
        "id": "e8ZKG4ois3k7",
        "outputId": "602134a0-36c1-4e9e-b6f1-e98daae5abf7"
      },
      "execution_count": null,
      "outputs": [
        {
          "output_type": "stream",
          "name": "stdout",
          "text": [
            "Synset('school.n.07')\n",
            "Synset('school.v.03') \n",
            "\n",
            "Synset('university.n.03')\n",
            "Synset('university.n.03') \n",
            "\n",
            "Synset('university.n.03')\n",
            "a large and diverse institution of higher learning created to educate for life and for a profession and to grant degrees\n"
          ]
        }
      ]
    },
    {
      "cell_type": "markdown",
      "source": [
        "## SentiWordNet\n",
        "SentiWordNet, built on top of WordNet. It returns 3 scores for each synset:\n",
        "* positivity\n",
        "* negativity\n",
        "* objectivity\n",
        "\n",
        "\n",
        "\n",
        "> It can be used to analyze text-based opinions, sentiments, and emotions. <br>\n",
        "Take the sentence 'I love coffee' as an example: <br>\n",
        "![Screenshot 2022-09-25 151858.jpg](data:image/jpeg;base64,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)<br>Based on the scores, we can conclude that this sentence has a positive tone.\n",
        "\n"
      ],
      "metadata": {
        "id": "9il5f7HRL8Ds"
      }
    },
    {
      "cell_type": "code",
      "source": [
        "# setup SentiWordNet\n",
        "nltk.download('sentiwordnet')\n",
        "from nltk.corpus import sentiwordnet as swn"
      ],
      "metadata": {
        "colab": {
          "base_uri": "https://localhost:8080/"
        },
        "id": "6Xgth0TmNlKG",
        "outputId": "6e3be0fb-b7b0-4eb4-d00e-ca6fa0b0b7a8"
      },
      "execution_count": null,
      "outputs": [
        {
          "output_type": "stream",
          "name": "stderr",
          "text": [
            "[nltk_data] Downloading package sentiwordnet to /root/nltk_data...\n",
            "[nltk_data]   Package sentiwordnet is already up-to-date!\n"
          ]
        }
      ]
    },
    {
      "cell_type": "code",
      "source": [
        "senti_list = list(swn.senti_synsets('surprise')) \n",
        "for item in senti_list:\n",
        "    print(item)"
      ],
      "metadata": {
        "colab": {
          "base_uri": "https://localhost:8080/"
        },
        "id": "hypKwH7uNlHx",
        "outputId": "e93e8819-f1a0-4dc0-b2c2-3d3293ac0708"
      },
      "execution_count": null,
      "outputs": [
        {
          "output_type": "stream",
          "name": "stdout",
          "text": [
            "<surprise.n.01: PosScore=0.375 NegScore=0.25>\n",
            "<surprise.n.02: PosScore=0.0 NegScore=0.25>\n",
            "<surprise.n.03: PosScore=0.0 NegScore=0.125>\n",
            "<surprise.v.01: PosScore=0.125 NegScore=0.0>\n",
            "<surprise.v.02: PosScore=0.0 NegScore=0.0>\n",
            "<storm.v.05: PosScore=0.0 NegScore=0.0>\n"
          ]
        }
      ]
    },
    {
      "cell_type": "code",
      "source": [
        "temp= 'I love coffee'\n",
        "tokens= temp.split()\n",
        "for x in tokens:\n",
        "  p= list(swn.senti_synsets(x))[0]\n",
        "  print(x,'\\t pos=', p.pos_score(), '\\t neg=', p.neg_score(), '\\t obj=', p.obj_score())"
      ],
      "metadata": {
        "colab": {
          "base_uri": "https://localhost:8080/"
        },
        "id": "hngMW-FtNlDI",
        "outputId": "a3847b95-0022-4f57-e328-39f0b2490e3c"
      },
      "execution_count": null,
      "outputs": [
        {
          "output_type": "stream",
          "name": "stdout",
          "text": [
            "I \t pos= 0.0 \t neg= 0.0 \t obj= 1.0\n",
            "love \t pos= 0.625 \t neg= 0.0 \t obj= 0.375\n",
            "coffee \t pos= 0.0 \t neg= 0.0 \t obj= 1.0\n"
          ]
        }
      ]
    },
    {
      "cell_type": "markdown",
      "source": [
        "## Collocation\n",
        "A collocation occurs when two or more words are used together more frequently than chance would suggest."
      ],
      "metadata": {
        "id": "n_8lJBCfL63M"
      }
    },
    {
      "cell_type": "code",
      "source": [
        "nltk.download('book')\n",
        "from nltk.book import *"
      ],
      "metadata": {
        "id": "OxigVS0bVIG_"
      },
      "execution_count": null,
      "outputs": []
    },
    {
      "cell_type": "code",
      "source": [
        "# Output collocations for text4\n",
        "text4.collocations()"
      ],
      "metadata": {
        "colab": {
          "base_uri": "https://localhost:8080/"
        },
        "id": "2_gYUDwRVmY8",
        "outputId": "7b21a8c4-3ee9-4952-c195-9145b524e419"
      },
      "execution_count": null,
      "outputs": [
        {
          "output_type": "stream",
          "name": "stdout",
          "text": [
            "United States; fellow citizens; years ago; four years; Federal\n",
            "Government; General Government; American people; Vice President; God\n",
            "bless; Chief Justice; one another; fellow Americans; Old World;\n",
            "Almighty God; Fellow citizens; Chief Magistrate; every citizen; Indian\n",
            "tribes; public debt; foreign nations\n"
          ]
        }
      ]
    },
    {
      "cell_type": "code",
      "source": [
        "# calculate MI: 'Almighty God'\n",
        "# MI formula: P(x,y) / [P(x) * P(y)]\n",
        "import math\n",
        "\n",
        "text= ' '.join(text4.tokens)\n",
        "count= len(set(text4))\n",
        "ag= text.count('Almighty God')/ count\n",
        "print('P(\\'Almighty God\\') =\\t', ag)\n",
        "\n",
        "a= text.count('Almighty')/ count\n",
        "print('P(\\'Almighty\\') =\\t\\t', a)\n",
        "\n",
        "g= text.count('God')/ count\n",
        "print('P(\\'God\\') =\\t\\t', g)\n",
        "\n",
        "pmi = math.log2(ag / (a * g))\n",
        "print('PMI = \\t\\t\\t', pmi)"
      ],
      "metadata": {
        "colab": {
          "base_uri": "https://localhost:8080/"
        },
        "id": "EqY0n3UUVIBy",
        "outputId": "4ef4068f-e0d3-442e-b53e-9dbc16b2e1ba"
      },
      "execution_count": null,
      "outputs": [
        {
          "output_type": "stream",
          "name": "stdout",
          "text": [
            "P('Almighty God') =\t 0.0014962593516209476\n",
            "P('Almighty') =\t\t 0.002793017456359102\n",
            "P('God') =\t\t 0.011172069825436408\n",
            "PMI = \t\t\t 5.583495367722955\n"
          ]
        }
      ]
    },
    {
      "cell_type": "markdown",
      "source": [
        "\n",
        "\n",
        "> Since the PMI for 'Almighty God' is positive, we can say 'Almighty God' is a collocation.\n",
        "\n"
      ],
      "metadata": {
        "id": "99qxAp_Gge4K"
      }
    }
  ]
}